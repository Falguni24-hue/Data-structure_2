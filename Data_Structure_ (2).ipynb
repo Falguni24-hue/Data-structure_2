{
  "nbformat": 4,
  "nbformat_minor": 0,
  "metadata": {
    "colab": {
      "provenance": []
    },
    "kernelspec": {
      "name": "python3",
      "display_name": "Python 3"
    },
    "language_info": {
      "name": "python"
    }
  },
  "cells": [
    {
      "cell_type": "markdown",
      "source": [
        "# **Data types and structure question and answers**"
      ],
      "metadata": {
        "id": "BhEvcBSRyrLN"
      }
    },
    {
      "cell_type": "markdown",
      "source": [
        "Q1 **what are data structures, why are they important?**\n",
        "\n",
        "Data structure are a way to organize , store , process and retrive data in a specific format.Data Structure is popular because it makes code more efficient and make it easy to understand\n"
      ],
      "metadata": {
        "id": "QOy_ATAe1Z4a"
      }
    },
    {
      "cell_type": "markdown",
      "source": [
        "Q2 **Explain diffrence between mutuable and immutable data type with example.**\n",
        "\n",
        "Mutuable data types can be changed after creation,whereas immutable datatype cannot be changed after creation.we can add , remove , or modify the contents of a mutuable data type. like (List and Dictonaries) can be changed after creation and (strings , tuples) can not be alterd once defined."
      ],
      "metadata": {
        "id": "R-mG2AwL5E0I"
      }
    },
    {
      "cell_type": "markdown",
      "source": [
        "Q3 **what are the main diffrence between tuple and list in python?**\n",
        "\n",
        "\n",
        "Tuple is immutable and list is mutuable .Tuple can't be changed after it's creation.List can be changed after it's creation."
      ],
      "metadata": {
        "id": "2syCHWKw6iO6"
      }
    },
    {
      "cell_type": "markdown",
      "source": [
        "Q4 **Describe how dictionaries store data**\n",
        "\n",
        "Dictionaries are used to store data **key:value** pair .Dictionaries are stored data in form of ordered , changeable and do not allow duplicate.Dictionaries are mutuable."
      ],
      "metadata": {
        "id": "gfnqqGuU8H9F"
      }
    },
    {
      "cell_type": "markdown",
      "source": [
        "Q5 **why might you used set instead of list in python?**\n",
        "\n",
        "sets are used when want to unique collection of element and perform fast membership checks.sets automatically remove duplicate value, making them ideal for operation that involve finding unique items or performing mathematical set operations.\n",
        "\n",
        "\n"
      ],
      "metadata": {
        "id": "1aiA9fvz9fI-"
      }
    },
    {
      "cell_type": "markdown",
      "source": [
        "Q6 **what is a string in python ? and how it's different from a list.**\n",
        "\n",
        "\n",
        "String is a immutalbe sequence of characters between single or double quotes.List is mutuable sequence of any datatype , where each datatype could be anything.(like int,float,string,boolean)while both support indexing ,slicing .string can not be changed after it is created. but list can be changed after creation.\n",
        "\n",
        "\n",
        "\n"
      ],
      "metadata": {
        "id": "qN5R4WPSEmDK"
      }
    },
    {
      "cell_type": "markdown",
      "source": [
        "Q7 **How do tuple ensure data Integrity in python?**\n",
        "\n",
        "Tuple is immutuable it's content can't be changed throughout their lifecyle.Data can't be changed once it's created .This charactristics leverages the Integrity of tuple in python.\n",
        "\n"
      ],
      "metadata": {
        "id": "NE_R0If3F1HG"
      }
    },
    {
      "cell_type": "markdown",
      "source": [
        "Q8 **what is hash table and how does it relate to dictionaries in python?**\n",
        "\n",
        "Hash talbe is a data structrure allows you to store data in key:value pairs.In a hash table, the key of every key-value pair must be hashable, because the pairs stored are indexed by using the hash of their keys.\n",
        "\n",
        "\n"
      ],
      "metadata": {
        "id": "4bec0XstHQKu"
      }
    },
    {
      "cell_type": "markdown",
      "source": [
        "Q9 **can lists contain different data types in python?**\n",
        "\n",
        "It's really list can contain different data types in python, A list can contain different data type like string , float , boolean data type.\n"
      ],
      "metadata": {
        "id": "tJVzEaVWJQik"
      }
    },
    {
      "cell_type": "markdown",
      "source": [
        "Q10 **Explain why string are immutale in python?**\n",
        "\n",
        "String are immutalbe in python to enhance performance and security.since each string operation create a new object,it prevent unintened modifications,which improve realiablity of code.\n"
      ],
      "metadata": {
        "id": "QhfYTa_YfnLk"
      }
    },
    {
      "cell_type": "markdown",
      "source": [
        "Q11 **What advantages do dictionaries offer over lists for certain task?**\n",
        "\n",
        "Dictionaries are ideal for tasks for data-mapping, quick lookup,key-value association.and list is ideal sequencial processing , ordered collection where the order of elements matters.\n",
        "\n",
        "\n"
      ],
      "metadata": {
        "id": "k8tuyemRhZPi"
      }
    },
    {
      "cell_type": "markdown",
      "source": [
        "Q12 **Describe the scenario where using tuple would be preferalbe over a list.**\n",
        "\n",
        "tuple would be preferable if you need an immutable collection where the element won't be changed after it created.Tuple are generally faster and more memory efficient than list.\n",
        "\n"
      ],
      "metadata": {
        "id": "pHB2hHlmkRL-"
      }
    },
    {
      "cell_type": "markdown",
      "source": [
        "Q13 **How do set handle duplicate values in python?**\n",
        "\n",
        "sets remove automatically duplicate in pyhton.ensuring that each element is unique. This behavoiur is useful for operation where only distinct items are required , such as removing duplicate from a list.\n"
      ],
      "metadata": {
        "id": "ItF__QzstJNw"
      }
    },
    {
      "cell_type": "markdown",
      "source": [
        "Q14 **How does the \"In\" keyword work differently for lists and dictionaries?**\n",
        "\n",
        "for list , the \"in\" keyword checks if a value exists within the list by scanning each element.For dictionary it check if a key exists directly,providing faster lookup times due to the hash based structure of dictionary."
      ],
      "metadata": {
        "id": "cSn_wUtaleSh"
      }
    },
    {
      "cell_type": "markdown",
      "source": [
        "Q15 **Can you modify the element of a tuple? Explain why or why not?**\n",
        "\n",
        "Tuples element can't be changed if it is created . we can not add, remove element in tuple because it's immuable .\n",
        "\n"
      ],
      "metadata": {
        "id": "N_N9HjH2zEly"
      }
    },
    {
      "cell_type": "markdown",
      "source": [
        "Q16 **What is nested dictionary , and give an example of its use case?**\n",
        "\n",
        "\n",
        "nested dictionary,is a dicionary inside dictionary .It is a collection of dictionaries into a single dictionary .just like\n",
        "\n",
        "people = {1:{'name':\"ajay\",'age':30}, 2:{'name':\"falguni\",'age':40}}\n",
        "\n"
      ],
      "metadata": {
        "id": "Hgq1zZTi04ub"
      }
    },
    {
      "cell_type": "markdown",
      "source": [
        "Q17 **Describe the time complexity of accessing elements in a dictionary**\n",
        "\n",
        "The time complexity of accessing elements in dictionary o(1).The time taken to retrieve an element from a dictionary is constant."
      ],
      "metadata": {
        "id": "A8llywH-st44"
      }
    },
    {
      "cell_type": "markdown",
      "source": [
        "Q18 **In what situations are lists preferred over dictionary.**\n",
        "\n",
        "If we need ordered collection,like sequence of user action list is used.List allow duplicate value.In dictionary used in quick look-up and used in situation username to userdata.does not allow duplicate key but allow duplicate value."
      ],
      "metadata": {
        "id": "P7H6rtSWvX72"
      }
    },
    {
      "cell_type": "markdown",
      "source": [
        "Q19 **Why are dictionaries considered unordered , and how does that affect data retrival?**\n",
        "\n",
        "Dictionary doesn't maintain a specific order for items,based on where they added.Dictionary are optimized for fast lookups based on keys,rather than maintaining order.Data retrival is more accessible and organised ,which can lead faster and more accurate data analysis and error free data.\n",
        "\n"
      ],
      "metadata": {
        "id": "rWRWRAap2_TW"
      }
    },
    {
      "cell_type": "markdown",
      "source": [
        "Q20 **Explain the difference between list and dictionary in torms of data retrival?**\n",
        "\n",
        "In a list , data retrieval involves accessing elements by index ,which is straightforward but linear search time if the element position is unknown.In contrast,a dictionary allows access to data by key,offering faster retrieval\n",
        "regardless of element count.\n",
        "\n"
      ],
      "metadata": {
        "id": "gRmQeLZ35Awk"
      }
    },
    {
      "cell_type": "markdown",
      "source": [
        "# **                                                        `Practical Question`**"
      ],
      "metadata": {
        "id": "ay5qfqdw23SB"
      }
    },
    {
      "cell_type": "markdown",
      "source": [
        "Q1 **Write a code to create a string with your name and print it.**"
      ],
      "metadata": {
        "id": "HPMknhn2UPes"
      }
    },
    {
      "cell_type": "code",
      "source": [
        "name = str(input(\"Enter your name:\"))\n",
        "print(f\"My name is {name}\")"
      ],
      "metadata": {
        "collapsed": true,
        "id": "D9x2DNRYUe3t"
      },
      "execution_count": null,
      "outputs": []
    },
    {
      "cell_type": "markdown",
      "source": [
        "Q2 **write a code to find the length of string \"Hello world\".**\n"
      ],
      "metadata": {
        "id": "yr3NIxfSVIIu"
      }
    },
    {
      "cell_type": "code",
      "source": [
        "len(\"hello world\")\n"
      ],
      "metadata": {
        "id": "qmXrT3OBUzzb"
      },
      "execution_count": null,
      "outputs": []
    },
    {
      "cell_type": "markdown",
      "source": [
        "Q3 **Write a code to slice the first 3 characters from the string \"python programming.\"**"
      ],
      "metadata": {
        "id": "ZJUiUIITXrA5"
      }
    },
    {
      "cell_type": "code",
      "source": [
        "name = \"python programming\"\n",
        "print(name[0:3])"
      ],
      "metadata": {
        "id": "YPIgGCqcX-0Q"
      },
      "execution_count": null,
      "outputs": []
    },
    {
      "cell_type": "markdown",
      "source": [
        "Q4 **Write a code to convert the string \"hello\" to uppercase.**\n"
      ],
      "metadata": {
        "id": "FVb0VolWYVde"
      }
    },
    {
      "cell_type": "code",
      "source": [
        "name = \"hello\"\n",
        "print(name.upper())"
      ],
      "metadata": {
        "id": "AELHniM_Yl2F"
      },
      "execution_count": null,
      "outputs": []
    },
    {
      "cell_type": "markdown",
      "source": [
        "Q5 **write a code to replace the word \"apple\" with \"orange\" in the string \"I like apple.\"**"
      ],
      "metadata": {
        "id": "Qjgt2Nq_Y41F"
      }
    },
    {
      "cell_type": "code",
      "source": [
        "name = \"I Like apple\"\n",
        "print(name.replace(\"apple\",\"orange\"))"
      ],
      "metadata": {
        "id": "NJuy4VmJZRwm"
      },
      "execution_count": null,
      "outputs": []
    },
    {
      "cell_type": "markdown",
      "source": [
        "Q6 **write a code to create list with number 1 to 5 and print it.**"
      ],
      "metadata": {
        "id": "r2R0xti9ZlJ-"
      }
    },
    {
      "cell_type": "code",
      "source": [
        "name =[1,2,3,4,5]\n",
        "print(name)"
      ],
      "metadata": {
        "id": "AS7TG4DvZ6RO"
      },
      "execution_count": null,
      "outputs": []
    },
    {
      "cell_type": "markdown",
      "source": [
        "Q7 **Write a code to append number 10 to the list[1,2,3,4]**."
      ],
      "metadata": {
        "id": "Ly5sz6HNaJlc"
      }
    },
    {
      "cell_type": "code",
      "source": [
        "name = [1,2,3,4]\n",
        "name.append(10)"
      ],
      "metadata": {
        "id": "fRpQfTedaVfc"
      },
      "execution_count": null,
      "outputs": []
    },
    {
      "cell_type": "markdown",
      "source": [
        "Q8 **write a code to remove 3 from the list[1,2,3,4,5]**"
      ],
      "metadata": {
        "id": "MiddVCrZakEb"
      }
    },
    {
      "cell_type": "code",
      "source": [
        "name = [1,2,3,4,5]\n",
        "name.remove(3)"
      ],
      "metadata": {
        "id": "EYVzPyHCavbL"
      },
      "execution_count": null,
      "outputs": []
    },
    {
      "cell_type": "markdown",
      "source": [
        "Q9 **write a code to access the second element in the list ['a','b','c','d'].**"
      ],
      "metadata": {
        "id": "i773Xsj2bF_L"
      }
    },
    {
      "cell_type": "code",
      "source": [
        "name = ['a' ,'b' ,'c','d']\n",
        "print(name[1])"
      ],
      "metadata": {
        "id": "tyPcAgVQbnqa"
      },
      "execution_count": null,
      "outputs": []
    },
    {
      "cell_type": "markdown",
      "source": [
        "Q10 **write a to reverse a list [10,20,30,40,50].**\n"
      ],
      "metadata": {
        "id": "OUS7T4EBb7cx"
      }
    },
    {
      "cell_type": "code",
      "source": [
        "name = [10,20,30,40,50]\n",
        "name.reverse()\n",
        "print(name)"
      ],
      "metadata": {
        "id": "cDK2CxPocJgD"
      },
      "execution_count": null,
      "outputs": []
    },
    {
      "cell_type": "markdown",
      "source": [
        "Q11 **write a code to create a tuple with elements 10,20,30 and print it.**"
      ],
      "metadata": {
        "id": "iQGBxKKfe_Tl"
      }
    },
    {
      "cell_type": "code",
      "source": [
        "tuple = (10,20,30)\n",
        "print(tuple)"
      ],
      "metadata": {
        "id": "pOvGsb4Hfl5t"
      },
      "execution_count": null,
      "outputs": []
    },
    {
      "cell_type": "markdown",
      "source": [
        "Q12 **write a code to access first element from tuple('apple','banana','cherry')**"
      ],
      "metadata": {
        "id": "q95KstJ5fueN"
      }
    },
    {
      "cell_type": "code",
      "source": [
        "name = ('apple','banana','cherry')\n",
        "print(name[0])"
      ],
      "metadata": {
        "id": "V8PuZYUqgFjN"
      },
      "execution_count": null,
      "outputs": []
    },
    {
      "cell_type": "markdown",
      "source": [
        "Q13 **write a code to count how many times number 2 appears in the tuple(1,2,3,2,4,2)**"
      ],
      "metadata": {
        "id": "Cb9O8x6zNHrP"
      }
    },
    {
      "cell_type": "code",
      "source": [
        "name_tuple = (1,2,3,2,4,2)\n",
        "print(name_tuple.count(2))"
      ],
      "metadata": {
        "id": "N6La6J6dNkRH"
      },
      "execution_count": null,
      "outputs": []
    },
    {
      "cell_type": "markdown",
      "source": [
        "Q14 **write a code to find the index of element \"cat\" in the tuple('dog','cat','rabbit'**)"
      ],
      "metadata": {
        "id": "6IKMiS0qOIEn"
      }
    },
    {
      "cell_type": "code",
      "source": [
        "Animal = ('dog','cat','rabbit')\n",
        "print(Animal.index('cat'))"
      ],
      "metadata": {
        "id": "neVGBTdYPAP0"
      },
      "execution_count": null,
      "outputs": []
    },
    {
      "cell_type": "markdown",
      "source": [
        "Q15 **Write a code to check if the element \"banana\" is in the tuple('apple','orange','banana')**"
      ],
      "metadata": {
        "id": "vCqbfNBMSJh2"
      }
    },
    {
      "cell_type": "code",
      "source": [
        "fruits = ('apple','orange','banana')\n",
        "print('banana'in fruits)"
      ],
      "metadata": {
        "id": "ofSrCCLoSorE"
      },
      "execution_count": null,
      "outputs": []
    },
    {
      "cell_type": "markdown",
      "source": [
        "Q16 **write a code to create a set with the elements 1,2,3,4,5 and print it.**\n"
      ],
      "metadata": {
        "id": "DbcWPa8HTGOE"
      }
    },
    {
      "cell_type": "code",
      "source": [
        "num_set = {1,2,3,4,5}\n",
        "print(num_set)"
      ],
      "metadata": {
        "id": "ll0mhrr7TXAW"
      },
      "execution_count": null,
      "outputs": []
    },
    {
      "cell_type": "markdown",
      "source": [
        "Q17 **Write a code to add element 6 to a set{1,2,3,4}**"
      ],
      "metadata": {
        "id": "8DMCNRXfT2pz"
      }
    },
    {
      "cell_type": "code",
      "source": [
        "num_set = {1,2,3,4}\n",
        "num_set.add(6)\n",
        "print(num_set)"
      ],
      "metadata": {
        "id": "USMQBhp7UHSz"
      },
      "execution_count": null,
      "outputs": []
    }
  ]
}